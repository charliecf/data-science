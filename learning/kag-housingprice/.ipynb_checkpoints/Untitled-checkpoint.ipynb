{
 "cells": [
  {
   "cell_type": "markdown",
   "metadata": {},
   "source": [
    "Hello World! First exploration with data science and going through a housing price dataset.\n",
    "Let's test out the markdown here.\n",
    "\n",
    "**Bold**\n",
    "*italics*\n",
    "_italics_\n",
    "\n",
    "* Very nice\n",
    "* I rather like this...\n",
    "\n",
    "Okay, let's get down to business. I'm pretty much copying line by line with little of my own work, please see the original here: [Kaggle-Notebook](https://www.kaggle.com/pmarcelino/house-prices-advanced-regression-techniques/comprehensive-data-exploration-with-python)\n"
   ]
  },
  {
   "cell_type": "code",
   "execution_count": null,
   "metadata": {
    "collapsed": true
   },
   "outputs": [],
   "source": []
  }
 ],
 "metadata": {
  "kernelspec": {
   "display_name": "Python 3",
   "language": "python",
   "name": "python3"
  },
  "language_info": {
   "codemirror_mode": {
    "name": "ipython",
    "version": 3
   },
   "file_extension": ".py",
   "mimetype": "text/x-python",
   "name": "python",
   "nbconvert_exporter": "python",
   "pygments_lexer": "ipython3",
   "version": "3.6.0"
  }
 },
 "nbformat": 4,
 "nbformat_minor": 2
}
