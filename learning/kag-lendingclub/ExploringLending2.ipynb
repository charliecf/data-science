{
 "cells": [
  {
   "cell_type": "markdown",
   "metadata": {},
   "source": [
    "Following notebook by [Spider Pig](https://www.kaggle.com/apartmentguru/d/wendykan/lending-club-loan-data/exploratory-lending)"
   ]
  },
  {
   "cell_type": "code",
   "execution_count": 1,
   "metadata": {
    "collapsed": true
   },
   "outputs": [],
   "source": [
    "import numpy as np\n",
    "from scipy.stats import kendalltau\n",
    "import seaborn as sns\n",
    "import pandas as pd\n",
    "%matplotlib inline"
   ]
  },
  {
   "cell_type": "code",
   "execution_count": 2,
   "metadata": {
    "collapsed": true
   },
   "outputs": [],
   "source": [
    "df = pd.read_csv(\"loan.csv\", low_memory=False)"
   ]
  },
  {
   "cell_type": "code",
   "execution_count": 3,
   "metadata": {
    "collapsed": false
   },
   "outputs": [
    {
     "data": {
      "text/html": [
       "<div>\n",
       "<table border=\"1\" class=\"dataframe\">\n",
       "  <thead>\n",
       "    <tr style=\"text-align: right;\">\n",
       "      <th></th>\n",
       "      <th>id</th>\n",
       "      <th>member_id</th>\n",
       "      <th>loan_amnt</th>\n",
       "      <th>funded_amnt</th>\n",
       "      <th>funded_amnt_inv</th>\n",
       "      <th>term</th>\n",
       "      <th>int_rate</th>\n",
       "      <th>installment</th>\n",
       "      <th>grade</th>\n",
       "      <th>sub_grade</th>\n",
       "      <th>...</th>\n",
       "      <th>total_bal_il</th>\n",
       "      <th>il_util</th>\n",
       "      <th>open_rv_12m</th>\n",
       "      <th>open_rv_24m</th>\n",
       "      <th>max_bal_bc</th>\n",
       "      <th>all_util</th>\n",
       "      <th>total_rev_hi_lim</th>\n",
       "      <th>inq_fi</th>\n",
       "      <th>total_cu_tl</th>\n",
       "      <th>inq_last_12m</th>\n",
       "    </tr>\n",
       "  </thead>\n",
       "  <tbody>\n",
       "    <tr>\n",
       "      <th>0</th>\n",
       "      <td>1077501</td>\n",
       "      <td>1296599</td>\n",
       "      <td>5000.0</td>\n",
       "      <td>5000.0</td>\n",
       "      <td>4975.0</td>\n",
       "      <td>36 months</td>\n",
       "      <td>10.65</td>\n",
       "      <td>162.87</td>\n",
       "      <td>B</td>\n",
       "      <td>B2</td>\n",
       "      <td>...</td>\n",
       "      <td>NaN</td>\n",
       "      <td>NaN</td>\n",
       "      <td>NaN</td>\n",
       "      <td>NaN</td>\n",
       "      <td>NaN</td>\n",
       "      <td>NaN</td>\n",
       "      <td>NaN</td>\n",
       "      <td>NaN</td>\n",
       "      <td>NaN</td>\n",
       "      <td>NaN</td>\n",
       "    </tr>\n",
       "    <tr>\n",
       "      <th>1</th>\n",
       "      <td>1077430</td>\n",
       "      <td>1314167</td>\n",
       "      <td>2500.0</td>\n",
       "      <td>2500.0</td>\n",
       "      <td>2500.0</td>\n",
       "      <td>60 months</td>\n",
       "      <td>15.27</td>\n",
       "      <td>59.83</td>\n",
       "      <td>C</td>\n",
       "      <td>C4</td>\n",
       "      <td>...</td>\n",
       "      <td>NaN</td>\n",
       "      <td>NaN</td>\n",
       "      <td>NaN</td>\n",
       "      <td>NaN</td>\n",
       "      <td>NaN</td>\n",
       "      <td>NaN</td>\n",
       "      <td>NaN</td>\n",
       "      <td>NaN</td>\n",
       "      <td>NaN</td>\n",
       "      <td>NaN</td>\n",
       "    </tr>\n",
       "    <tr>\n",
       "      <th>2</th>\n",
       "      <td>1077175</td>\n",
       "      <td>1313524</td>\n",
       "      <td>2400.0</td>\n",
       "      <td>2400.0</td>\n",
       "      <td>2400.0</td>\n",
       "      <td>36 months</td>\n",
       "      <td>15.96</td>\n",
       "      <td>84.33</td>\n",
       "      <td>C</td>\n",
       "      <td>C5</td>\n",
       "      <td>...</td>\n",
       "      <td>NaN</td>\n",
       "      <td>NaN</td>\n",
       "      <td>NaN</td>\n",
       "      <td>NaN</td>\n",
       "      <td>NaN</td>\n",
       "      <td>NaN</td>\n",
       "      <td>NaN</td>\n",
       "      <td>NaN</td>\n",
       "      <td>NaN</td>\n",
       "      <td>NaN</td>\n",
       "    </tr>\n",
       "    <tr>\n",
       "      <th>3</th>\n",
       "      <td>1076863</td>\n",
       "      <td>1277178</td>\n",
       "      <td>10000.0</td>\n",
       "      <td>10000.0</td>\n",
       "      <td>10000.0</td>\n",
       "      <td>36 months</td>\n",
       "      <td>13.49</td>\n",
       "      <td>339.31</td>\n",
       "      <td>C</td>\n",
       "      <td>C1</td>\n",
       "      <td>...</td>\n",
       "      <td>NaN</td>\n",
       "      <td>NaN</td>\n",
       "      <td>NaN</td>\n",
       "      <td>NaN</td>\n",
       "      <td>NaN</td>\n",
       "      <td>NaN</td>\n",
       "      <td>NaN</td>\n",
       "      <td>NaN</td>\n",
       "      <td>NaN</td>\n",
       "      <td>NaN</td>\n",
       "    </tr>\n",
       "    <tr>\n",
       "      <th>4</th>\n",
       "      <td>1075358</td>\n",
       "      <td>1311748</td>\n",
       "      <td>3000.0</td>\n",
       "      <td>3000.0</td>\n",
       "      <td>3000.0</td>\n",
       "      <td>60 months</td>\n",
       "      <td>12.69</td>\n",
       "      <td>67.79</td>\n",
       "      <td>B</td>\n",
       "      <td>B5</td>\n",
       "      <td>...</td>\n",
       "      <td>NaN</td>\n",
       "      <td>NaN</td>\n",
       "      <td>NaN</td>\n",
       "      <td>NaN</td>\n",
       "      <td>NaN</td>\n",
       "      <td>NaN</td>\n",
       "      <td>NaN</td>\n",
       "      <td>NaN</td>\n",
       "      <td>NaN</td>\n",
       "      <td>NaN</td>\n",
       "    </tr>\n",
       "    <tr>\n",
       "      <th>5</th>\n",
       "      <td>1075269</td>\n",
       "      <td>1311441</td>\n",
       "      <td>5000.0</td>\n",
       "      <td>5000.0</td>\n",
       "      <td>5000.0</td>\n",
       "      <td>36 months</td>\n",
       "      <td>7.90</td>\n",
       "      <td>156.46</td>\n",
       "      <td>A</td>\n",
       "      <td>A4</td>\n",
       "      <td>...</td>\n",
       "      <td>NaN</td>\n",
       "      <td>NaN</td>\n",
       "      <td>NaN</td>\n",
       "      <td>NaN</td>\n",
       "      <td>NaN</td>\n",
       "      <td>NaN</td>\n",
       "      <td>NaN</td>\n",
       "      <td>NaN</td>\n",
       "      <td>NaN</td>\n",
       "      <td>NaN</td>\n",
       "    </tr>\n",
       "    <tr>\n",
       "      <th>6</th>\n",
       "      <td>1069639</td>\n",
       "      <td>1304742</td>\n",
       "      <td>7000.0</td>\n",
       "      <td>7000.0</td>\n",
       "      <td>7000.0</td>\n",
       "      <td>60 months</td>\n",
       "      <td>15.96</td>\n",
       "      <td>170.08</td>\n",
       "      <td>C</td>\n",
       "      <td>C5</td>\n",
       "      <td>...</td>\n",
       "      <td>NaN</td>\n",
       "      <td>NaN</td>\n",
       "      <td>NaN</td>\n",
       "      <td>NaN</td>\n",
       "      <td>NaN</td>\n",
       "      <td>NaN</td>\n",
       "      <td>NaN</td>\n",
       "      <td>NaN</td>\n",
       "      <td>NaN</td>\n",
       "      <td>NaN</td>\n",
       "    </tr>\n",
       "    <tr>\n",
       "      <th>7</th>\n",
       "      <td>1072053</td>\n",
       "      <td>1288686</td>\n",
       "      <td>3000.0</td>\n",
       "      <td>3000.0</td>\n",
       "      <td>3000.0</td>\n",
       "      <td>36 months</td>\n",
       "      <td>18.64</td>\n",
       "      <td>109.43</td>\n",
       "      <td>E</td>\n",
       "      <td>E1</td>\n",
       "      <td>...</td>\n",
       "      <td>NaN</td>\n",
       "      <td>NaN</td>\n",
       "      <td>NaN</td>\n",
       "      <td>NaN</td>\n",
       "      <td>NaN</td>\n",
       "      <td>NaN</td>\n",
       "      <td>NaN</td>\n",
       "      <td>NaN</td>\n",
       "      <td>NaN</td>\n",
       "      <td>NaN</td>\n",
       "    </tr>\n",
       "    <tr>\n",
       "      <th>8</th>\n",
       "      <td>1071795</td>\n",
       "      <td>1306957</td>\n",
       "      <td>5600.0</td>\n",
       "      <td>5600.0</td>\n",
       "      <td>5600.0</td>\n",
       "      <td>60 months</td>\n",
       "      <td>21.28</td>\n",
       "      <td>152.39</td>\n",
       "      <td>F</td>\n",
       "      <td>F2</td>\n",
       "      <td>...</td>\n",
       "      <td>NaN</td>\n",
       "      <td>NaN</td>\n",
       "      <td>NaN</td>\n",
       "      <td>NaN</td>\n",
       "      <td>NaN</td>\n",
       "      <td>NaN</td>\n",
       "      <td>NaN</td>\n",
       "      <td>NaN</td>\n",
       "      <td>NaN</td>\n",
       "      <td>NaN</td>\n",
       "    </tr>\n",
       "    <tr>\n",
       "      <th>9</th>\n",
       "      <td>1071570</td>\n",
       "      <td>1306721</td>\n",
       "      <td>5375.0</td>\n",
       "      <td>5375.0</td>\n",
       "      <td>5350.0</td>\n",
       "      <td>60 months</td>\n",
       "      <td>12.69</td>\n",
       "      <td>121.45</td>\n",
       "      <td>B</td>\n",
       "      <td>B5</td>\n",
       "      <td>...</td>\n",
       "      <td>NaN</td>\n",
       "      <td>NaN</td>\n",
       "      <td>NaN</td>\n",
       "      <td>NaN</td>\n",
       "      <td>NaN</td>\n",
       "      <td>NaN</td>\n",
       "      <td>NaN</td>\n",
       "      <td>NaN</td>\n",
       "      <td>NaN</td>\n",
       "      <td>NaN</td>\n",
       "    </tr>\n",
       "  </tbody>\n",
       "</table>\n",
       "<p>10 rows × 74 columns</p>\n",
       "</div>"
      ],
      "text/plain": [
       "        id  member_id  loan_amnt  funded_amnt  funded_amnt_inv        term  \\\n",
       "0  1077501    1296599     5000.0       5000.0           4975.0   36 months   \n",
       "1  1077430    1314167     2500.0       2500.0           2500.0   60 months   \n",
       "2  1077175    1313524     2400.0       2400.0           2400.0   36 months   \n",
       "3  1076863    1277178    10000.0      10000.0          10000.0   36 months   \n",
       "4  1075358    1311748     3000.0       3000.0           3000.0   60 months   \n",
       "5  1075269    1311441     5000.0       5000.0           5000.0   36 months   \n",
       "6  1069639    1304742     7000.0       7000.0           7000.0   60 months   \n",
       "7  1072053    1288686     3000.0       3000.0           3000.0   36 months   \n",
       "8  1071795    1306957     5600.0       5600.0           5600.0   60 months   \n",
       "9  1071570    1306721     5375.0       5375.0           5350.0   60 months   \n",
       "\n",
       "   int_rate  installment grade sub_grade     ...      total_bal_il il_util  \\\n",
       "0     10.65       162.87     B        B2     ...               NaN     NaN   \n",
       "1     15.27        59.83     C        C4     ...               NaN     NaN   \n",
       "2     15.96        84.33     C        C5     ...               NaN     NaN   \n",
       "3     13.49       339.31     C        C1     ...               NaN     NaN   \n",
       "4     12.69        67.79     B        B5     ...               NaN     NaN   \n",
       "5      7.90       156.46     A        A4     ...               NaN     NaN   \n",
       "6     15.96       170.08     C        C5     ...               NaN     NaN   \n",
       "7     18.64       109.43     E        E1     ...               NaN     NaN   \n",
       "8     21.28       152.39     F        F2     ...               NaN     NaN   \n",
       "9     12.69       121.45     B        B5     ...               NaN     NaN   \n",
       "\n",
       "  open_rv_12m  open_rv_24m max_bal_bc all_util total_rev_hi_lim inq_fi  \\\n",
       "0         NaN          NaN        NaN      NaN              NaN    NaN   \n",
       "1         NaN          NaN        NaN      NaN              NaN    NaN   \n",
       "2         NaN          NaN        NaN      NaN              NaN    NaN   \n",
       "3         NaN          NaN        NaN      NaN              NaN    NaN   \n",
       "4         NaN          NaN        NaN      NaN              NaN    NaN   \n",
       "5         NaN          NaN        NaN      NaN              NaN    NaN   \n",
       "6         NaN          NaN        NaN      NaN              NaN    NaN   \n",
       "7         NaN          NaN        NaN      NaN              NaN    NaN   \n",
       "8         NaN          NaN        NaN      NaN              NaN    NaN   \n",
       "9         NaN          NaN        NaN      NaN              NaN    NaN   \n",
       "\n",
       "  total_cu_tl inq_last_12m  \n",
       "0         NaN          NaN  \n",
       "1         NaN          NaN  \n",
       "2         NaN          NaN  \n",
       "3         NaN          NaN  \n",
       "4         NaN          NaN  \n",
       "5         NaN          NaN  \n",
       "6         NaN          NaN  \n",
       "7         NaN          NaN  \n",
       "8         NaN          NaN  \n",
       "9         NaN          NaN  \n",
       "\n",
       "[10 rows x 74 columns]"
      ]
     },
     "execution_count": 3,
     "metadata": {},
     "output_type": "execute_result"
    }
   ],
   "source": [
    "df.head(10)"
   ]
  },
  {
   "cell_type": "code",
   "execution_count": 4,
   "metadata": {
    "collapsed": false
   },
   "outputs": [
    {
     "name": "stdout",
     "output_type": "stream",
     "text": [
      "<class 'pandas.core.frame.DataFrame'>\n",
      "RangeIndex: 887379 entries, 0 to 887378\n",
      "Data columns (total 74 columns):\n",
      "id                             887379 non-null int64\n",
      "member_id                      887379 non-null int64\n",
      "loan_amnt                      887379 non-null float64\n",
      "funded_amnt                    887379 non-null float64\n",
      "funded_amnt_inv                887379 non-null float64\n",
      "term                           887379 non-null object\n",
      "int_rate                       887379 non-null float64\n",
      "installment                    887379 non-null float64\n",
      "grade                          887379 non-null object\n",
      "sub_grade                      887379 non-null object\n",
      "emp_title                      835922 non-null object\n",
      "emp_length                     887379 non-null object\n",
      "home_ownership                 887379 non-null object\n",
      "annual_inc                     887375 non-null float64\n",
      "verification_status            887379 non-null object\n",
      "issue_d                        887379 non-null object\n",
      "loan_status                    887379 non-null object\n",
      "pymnt_plan                     887379 non-null object\n",
      "url                            887379 non-null object\n",
      "desc                           126029 non-null object\n",
      "purpose                        887379 non-null object\n",
      "title                          887228 non-null object\n",
      "zip_code                       887379 non-null object\n",
      "addr_state                     887379 non-null object\n",
      "dti                            887379 non-null float64\n",
      "delinq_2yrs                    887350 non-null float64\n",
      "earliest_cr_line               887350 non-null object\n",
      "inq_last_6mths                 887350 non-null float64\n",
      "mths_since_last_delinq         433067 non-null float64\n",
      "mths_since_last_record         137053 non-null float64\n",
      "open_acc                       887350 non-null float64\n",
      "pub_rec                        887350 non-null float64\n",
      "revol_bal                      887379 non-null float64\n",
      "revol_util                     886877 non-null float64\n",
      "total_acc                      887350 non-null float64\n",
      "initial_list_status            887379 non-null object\n",
      "out_prncp                      887379 non-null float64\n",
      "out_prncp_inv                  887379 non-null float64\n",
      "total_pymnt                    887379 non-null float64\n",
      "total_pymnt_inv                887379 non-null float64\n",
      "total_rec_prncp                887379 non-null float64\n",
      "total_rec_int                  887379 non-null float64\n",
      "total_rec_late_fee             887379 non-null float64\n",
      "recoveries                     887379 non-null float64\n",
      "collection_recovery_fee        887379 non-null float64\n",
      "last_pymnt_d                   869720 non-null object\n",
      "last_pymnt_amnt                887379 non-null float64\n",
      "next_pymnt_d                   634408 non-null object\n",
      "last_credit_pull_d             887326 non-null object\n",
      "collections_12_mths_ex_med     887234 non-null float64\n",
      "mths_since_last_major_derog    221703 non-null float64\n",
      "policy_code                    887379 non-null float64\n",
      "application_type               887379 non-null object\n",
      "annual_inc_joint               511 non-null float64\n",
      "dti_joint                      509 non-null float64\n",
      "verification_status_joint      511 non-null object\n",
      "acc_now_delinq                 887350 non-null float64\n",
      "tot_coll_amt                   817103 non-null float64\n",
      "tot_cur_bal                    817103 non-null float64\n",
      "open_acc_6m                    21372 non-null float64\n",
      "open_il_6m                     21372 non-null float64\n",
      "open_il_12m                    21372 non-null float64\n",
      "open_il_24m                    21372 non-null float64\n",
      "mths_since_rcnt_il             20810 non-null float64\n",
      "total_bal_il                   21372 non-null float64\n",
      "il_util                        18617 non-null float64\n",
      "open_rv_12m                    21372 non-null float64\n",
      "open_rv_24m                    21372 non-null float64\n",
      "max_bal_bc                     21372 non-null float64\n",
      "all_util                       21372 non-null float64\n",
      "total_rev_hi_lim               817103 non-null float64\n",
      "inq_fi                         21372 non-null float64\n",
      "total_cu_tl                    21372 non-null float64\n",
      "inq_last_12m                   21372 non-null float64\n",
      "dtypes: float64(49), int64(2), object(23)\n",
      "memory usage: 501.0+ MB\n"
     ]
    },
    {
     "data": {
      "text/plain": [
       "<bound method NDFrame.describe of               id  member_id  loan_amnt  funded_amnt  funded_amnt_inv  \\\n",
       "0        1077501    1296599     5000.0       5000.0      4975.000000   \n",
       "1        1077430    1314167     2500.0       2500.0      2500.000000   \n",
       "2        1077175    1313524     2400.0       2400.0      2400.000000   \n",
       "3        1076863    1277178    10000.0      10000.0     10000.000000   \n",
       "4        1075358    1311748     3000.0       3000.0      3000.000000   \n",
       "5        1075269    1311441     5000.0       5000.0      5000.000000   \n",
       "6        1069639    1304742     7000.0       7000.0      7000.000000   \n",
       "7        1072053    1288686     3000.0       3000.0      3000.000000   \n",
       "8        1071795    1306957     5600.0       5600.0      5600.000000   \n",
       "9        1071570    1306721     5375.0       5375.0      5350.000000   \n",
       "10       1070078    1305201     6500.0       6500.0      6500.000000   \n",
       "11       1069908    1305008    12000.0      12000.0     12000.000000   \n",
       "12       1064687    1298717     9000.0       9000.0      9000.000000   \n",
       "13       1069866    1304956     3000.0       3000.0      3000.000000   \n",
       "14       1069057    1303503    10000.0      10000.0     10000.000000   \n",
       "15       1069759    1304871     1000.0       1000.0      1000.000000   \n",
       "16       1065775    1299699    10000.0      10000.0     10000.000000   \n",
       "17       1069971    1304884     3600.0       3600.0      3600.000000   \n",
       "18       1062474    1294539     6000.0       6000.0      6000.000000   \n",
       "19       1069742    1304855     9200.0       9200.0      9200.000000   \n",
       "20       1069740    1284848    20250.0      20250.0     19142.161077   \n",
       "21       1039153    1269083    21000.0      21000.0     21000.000000   \n",
       "22       1069710    1304821    10000.0      10000.0     10000.000000   \n",
       "23       1069700    1304810    10000.0      10000.0     10000.000000   \n",
       "24       1069559    1304634     6000.0       6000.0      6000.000000   \n",
       "25       1069697    1273773    15000.0      15000.0     15000.000000   \n",
       "26       1069800    1304679    15000.0      15000.0      8725.000000   \n",
       "27       1069657    1304764     5000.0       5000.0      5000.000000   \n",
       "28       1069799    1304678     4000.0       4000.0      4000.000000   \n",
       "29       1047704    1278806     8500.0       8500.0      8500.000000   \n",
       "...          ...        ...        ...          ...              ...   \n",
       "887349  36691397   39434133    20000.0      20000.0     20000.000000   \n",
       "887350  36500819   39232937    10300.0      10300.0     10300.000000   \n",
       "887351  36743377   39486112     4200.0       4200.0      4200.000000   \n",
       "887352  36231083   38942474    15000.0      15000.0     15000.000000   \n",
       "887353  36371802   39103231    15000.0      15000.0     15000.000000   \n",
       "887354  36250801   38962184     6000.0       6000.0      6000.000000   \n",
       "887355  36331554   39042967    26950.0      26950.0     26950.000000   \n",
       "887356  36460697   39182359    23000.0      23000.0     23000.000000   \n",
       "887357  35773415   38468842    18700.0      18700.0     18700.000000   \n",
       "887358  36440728   39152101    25000.0      25000.0     25000.000000   \n",
       "887359  35591131   38288343    25000.0      25000.0     25000.000000   \n",
       "887360  36361815   39093260    26500.0      26500.0     26500.000000   \n",
       "887361  36201871   38913321    21000.0      21000.0     21000.000000   \n",
       "887362  36381756   39013193     8000.0       8000.0      8000.000000   \n",
       "887363  36231724   38943173    12000.0      12000.0     12000.000000   \n",
       "887364  36231718   38943165    10775.0      10775.0     10775.000000   \n",
       "887365  36381704   39013139     7000.0       7000.0      7000.000000   \n",
       "887366  36241316   38952731     6225.0       6225.0      6225.000000   \n",
       "887367  36301729   39023153    10000.0      10000.0     10000.000000   \n",
       "887368  36250208   38961532    13150.0      13150.0     13150.000000   \n",
       "887369  36421485   39142898     4000.0       4000.0      4000.000000   \n",
       "887370  35094480   37777829     7500.0       7500.0      7500.000000   \n",
       "887371  36260758   38972123    10850.0      10850.0     10850.000000   \n",
       "887372  36330911   39042282    12000.0      12000.0     12000.000000   \n",
       "887373  36221446   38932858    11575.0      11575.0     11575.000000   \n",
       "887374  36371250   39102635    10000.0      10000.0     10000.000000   \n",
       "887375  36441262   39152692    24000.0      24000.0     24000.000000   \n",
       "887376  36271333   38982739    13000.0      13000.0     13000.000000   \n",
       "887377  36490806   39222577    12000.0      12000.0     12000.000000   \n",
       "887378  36271262   38982659    20000.0      20000.0     20000.000000   \n",
       "\n",
       "              term  int_rate  installment grade sub_grade     ...       \\\n",
       "0        36 months     10.65       162.87     B        B2     ...        \n",
       "1        60 months     15.27        59.83     C        C4     ...        \n",
       "2        36 months     15.96        84.33     C        C5     ...        \n",
       "3        36 months     13.49       339.31     C        C1     ...        \n",
       "4        60 months     12.69        67.79     B        B5     ...        \n",
       "5        36 months      7.90       156.46     A        A4     ...        \n",
       "6        60 months     15.96       170.08     C        C5     ...        \n",
       "7        36 months     18.64       109.43     E        E1     ...        \n",
       "8        60 months     21.28       152.39     F        F2     ...        \n",
       "9        60 months     12.69       121.45     B        B5     ...        \n",
       "10       60 months     14.65       153.45     C        C3     ...        \n",
       "11       36 months     12.69       402.54     B        B5     ...        \n",
       "12       36 months     13.49       305.38     C        C1     ...        \n",
       "13       36 months      9.91        96.68     B        B1     ...        \n",
       "14       36 months     10.65       325.74     B        B2     ...        \n",
       "15       36 months     16.29        35.31     D        D1     ...        \n",
       "16       36 months     15.27       347.98     C        C4     ...        \n",
       "17       36 months      6.03       109.57     A        A1     ...        \n",
       "18       36 months     11.71       198.46     B        B3     ...        \n",
       "19       36 months      6.03       280.01     A        A1     ...        \n",
       "20       60 months     15.27       484.63     C        C4     ...        \n",
       "21       36 months     12.42       701.73     B        B4     ...        \n",
       "22       36 months     11.71       330.76     B        B3     ...        \n",
       "23       36 months     11.71       330.76     B        B3     ...        \n",
       "24       36 months     11.71       198.46     B        B3     ...        \n",
       "25       36 months      9.91       483.38     B        B1     ...        \n",
       "26       36 months     14.27       514.64     C        C2     ...        \n",
       "27       60 months     16.77       123.65     D        D2     ...        \n",
       "28       36 months     11.71       132.31     B        B3     ...        \n",
       "29       36 months     11.71       281.15     B        B3     ...        \n",
       "...            ...       ...          ...   ...       ...     ...        \n",
       "887349   36 months      6.99       617.46     A        A3     ...        \n",
       "887350   60 months     13.66       237.86     C        C3     ...        \n",
       "887351   36 months     15.99       147.64     D        D2     ...        \n",
       "887352   36 months     11.99       498.15     B        B5     ...        \n",
       "887353   60 months     11.44       329.44     B        B4     ...        \n",
       "887354   36 months     17.86       216.50     D        D5     ...        \n",
       "887355   36 months      8.19       846.88     A        A5     ...        \n",
       "887356   60 months     15.59       554.32     D        D1     ...        \n",
       "887357   60 months     17.86       473.44     D        D5     ...        \n",
       "887358   60 months     15.99       607.82     D        D2     ...        \n",
       "887359   60 months     15.59       602.52     D        D1     ...        \n",
       "887360   60 months      8.67       545.87     B        B1     ...        \n",
       "887361   36 months      6.03       639.15     A        A1     ...        \n",
       "887362   36 months      8.19       251.40     A        A5     ...        \n",
       "887363   36 months      9.49       384.34     B        B2     ...        \n",
       "887364   36 months      6.03       327.95     A        A1     ...        \n",
       "887365   36 months     14.31       240.30     C        C4     ...        \n",
       "887366   36 months     16.49       220.37     D        D3     ...        \n",
       "887367   36 months      6.49       306.45     A        A2     ...        \n",
       "887368   60 months     14.99       312.77     C        C5     ...        \n",
       "887369   36 months      8.67       126.59     B        B1     ...        \n",
       "887370   36 months      9.49       240.22     B        B2     ...        \n",
       "887371   36 months     19.24       399.04     E        E2     ...        \n",
       "887372   36 months     11.99       398.52     B        B5     ...        \n",
       "887373   36 months     15.59       404.61     D        D1     ...        \n",
       "887374   36 months     11.99       332.10     B        B5     ...        \n",
       "887375   36 months     11.99       797.03     B        B5     ...        \n",
       "887376   60 months     15.99       316.07     D        D2     ...        \n",
       "887377   60 months     19.99       317.86     E        E3     ...        \n",
       "887378   36 months     11.99       664.20     B        B5     ...        \n",
       "\n",
       "       total_bal_il il_util open_rv_12m  open_rv_24m max_bal_bc all_util  \\\n",
       "0               NaN     NaN         NaN          NaN        NaN      NaN   \n",
       "1               NaN     NaN         NaN          NaN        NaN      NaN   \n",
       "2               NaN     NaN         NaN          NaN        NaN      NaN   \n",
       "3               NaN     NaN         NaN          NaN        NaN      NaN   \n",
       "4               NaN     NaN         NaN          NaN        NaN      NaN   \n",
       "5               NaN     NaN         NaN          NaN        NaN      NaN   \n",
       "6               NaN     NaN         NaN          NaN        NaN      NaN   \n",
       "7               NaN     NaN         NaN          NaN        NaN      NaN   \n",
       "8               NaN     NaN         NaN          NaN        NaN      NaN   \n",
       "9               NaN     NaN         NaN          NaN        NaN      NaN   \n",
       "10              NaN     NaN         NaN          NaN        NaN      NaN   \n",
       "11              NaN     NaN         NaN          NaN        NaN      NaN   \n",
       "12              NaN     NaN         NaN          NaN        NaN      NaN   \n",
       "13              NaN     NaN         NaN          NaN        NaN      NaN   \n",
       "14              NaN     NaN         NaN          NaN        NaN      NaN   \n",
       "15              NaN     NaN         NaN          NaN        NaN      NaN   \n",
       "16              NaN     NaN         NaN          NaN        NaN      NaN   \n",
       "17              NaN     NaN         NaN          NaN        NaN      NaN   \n",
       "18              NaN     NaN         NaN          NaN        NaN      NaN   \n",
       "19              NaN     NaN         NaN          NaN        NaN      NaN   \n",
       "20              NaN     NaN         NaN          NaN        NaN      NaN   \n",
       "21              NaN     NaN         NaN          NaN        NaN      NaN   \n",
       "22              NaN     NaN         NaN          NaN        NaN      NaN   \n",
       "23              NaN     NaN         NaN          NaN        NaN      NaN   \n",
       "24              NaN     NaN         NaN          NaN        NaN      NaN   \n",
       "25              NaN     NaN         NaN          NaN        NaN      NaN   \n",
       "26              NaN     NaN         NaN          NaN        NaN      NaN   \n",
       "27              NaN     NaN         NaN          NaN        NaN      NaN   \n",
       "28              NaN     NaN         NaN          NaN        NaN      NaN   \n",
       "29              NaN     NaN         NaN          NaN        NaN      NaN   \n",
       "...             ...     ...         ...          ...        ...      ...   \n",
       "887349          NaN     NaN         NaN          NaN        NaN      NaN   \n",
       "887350          NaN     NaN         NaN          NaN        NaN      NaN   \n",
       "887351          NaN     NaN         NaN          NaN        NaN      NaN   \n",
       "887352          NaN     NaN         NaN          NaN        NaN      NaN   \n",
       "887353          NaN     NaN         NaN          NaN        NaN      NaN   \n",
       "887354          NaN     NaN         NaN          NaN        NaN      NaN   \n",
       "887355          NaN     NaN         NaN          NaN        NaN      NaN   \n",
       "887356          NaN     NaN         NaN          NaN        NaN      NaN   \n",
       "887357          NaN     NaN         NaN          NaN        NaN      NaN   \n",
       "887358          NaN     NaN         NaN          NaN        NaN      NaN   \n",
       "887359          NaN     NaN         NaN          NaN        NaN      NaN   \n",
       "887360          NaN     NaN         NaN          NaN        NaN      NaN   \n",
       "887361          NaN     NaN         NaN          NaN        NaN      NaN   \n",
       "887362          NaN     NaN         NaN          NaN        NaN      NaN   \n",
       "887363          NaN     NaN         NaN          NaN        NaN      NaN   \n",
       "887364          NaN     NaN         NaN          NaN        NaN      NaN   \n",
       "887365          NaN     NaN         NaN          NaN        NaN      NaN   \n",
       "887366          NaN     NaN         NaN          NaN        NaN      NaN   \n",
       "887367          NaN     NaN         NaN          NaN        NaN      NaN   \n",
       "887368          NaN     NaN         NaN          NaN        NaN      NaN   \n",
       "887369          NaN     NaN         NaN          NaN        NaN      NaN   \n",
       "887370          NaN     NaN         NaN          NaN        NaN      NaN   \n",
       "887371          NaN     NaN         NaN          NaN        NaN      NaN   \n",
       "887372          NaN     NaN         NaN          NaN        NaN      NaN   \n",
       "887373          NaN     NaN         NaN          NaN        NaN      NaN   \n",
       "887374          NaN     NaN         NaN          NaN        NaN      NaN   \n",
       "887375          NaN     NaN         NaN          NaN        NaN      NaN   \n",
       "887376          NaN     NaN         NaN          NaN        NaN      NaN   \n",
       "887377          NaN     NaN         NaN          NaN        NaN      NaN   \n",
       "887378          NaN     NaN         NaN          NaN        NaN      NaN   \n",
       "\n",
       "       total_rev_hi_lim inq_fi total_cu_tl inq_last_12m  \n",
       "0                   NaN    NaN         NaN          NaN  \n",
       "1                   NaN    NaN         NaN          NaN  \n",
       "2                   NaN    NaN         NaN          NaN  \n",
       "3                   NaN    NaN         NaN          NaN  \n",
       "4                   NaN    NaN         NaN          NaN  \n",
       "5                   NaN    NaN         NaN          NaN  \n",
       "6                   NaN    NaN         NaN          NaN  \n",
       "7                   NaN    NaN         NaN          NaN  \n",
       "8                   NaN    NaN         NaN          NaN  \n",
       "9                   NaN    NaN         NaN          NaN  \n",
       "10                  NaN    NaN         NaN          NaN  \n",
       "11                  NaN    NaN         NaN          NaN  \n",
       "12                  NaN    NaN         NaN          NaN  \n",
       "13                  NaN    NaN         NaN          NaN  \n",
       "14                  NaN    NaN         NaN          NaN  \n",
       "15                  NaN    NaN         NaN          NaN  \n",
       "16                  NaN    NaN         NaN          NaN  \n",
       "17                  NaN    NaN         NaN          NaN  \n",
       "18                  NaN    NaN         NaN          NaN  \n",
       "19                  NaN    NaN         NaN          NaN  \n",
       "20                  NaN    NaN         NaN          NaN  \n",
       "21                  NaN    NaN         NaN          NaN  \n",
       "22                  NaN    NaN         NaN          NaN  \n",
       "23                  NaN    NaN         NaN          NaN  \n",
       "24                  NaN    NaN         NaN          NaN  \n",
       "25                  NaN    NaN         NaN          NaN  \n",
       "26                  NaN    NaN         NaN          NaN  \n",
       "27                  NaN    NaN         NaN          NaN  \n",
       "28                  NaN    NaN         NaN          NaN  \n",
       "29                  NaN    NaN         NaN          NaN  \n",
       "...                 ...    ...         ...          ...  \n",
       "887349          39700.0    NaN         NaN          NaN  \n",
       "887350          22000.0    NaN         NaN          NaN  \n",
       "887351          20400.0    NaN         NaN          NaN  \n",
       "887352           9700.0    NaN         NaN          NaN  \n",
       "887353          26100.0    NaN         NaN          NaN  \n",
       "887354           8500.0    NaN         NaN          NaN  \n",
       "887355         129100.0    NaN         NaN          NaN  \n",
       "887356          65600.0    NaN         NaN          NaN  \n",
       "887357          10200.0    NaN         NaN          NaN  \n",
       "887358          18700.0    NaN         NaN          NaN  \n",
       "887359          24400.0    NaN         NaN          NaN  \n",
       "887360         118600.0    NaN         NaN          NaN  \n",
       "887361          76300.0    NaN         NaN          NaN  \n",
       "887362           7300.0    NaN         NaN          NaN  \n",
       "887363          11900.0    NaN         NaN          NaN  \n",
       "887364          41700.0    NaN         NaN          NaN  \n",
       "887365           9900.0    NaN         NaN          NaN  \n",
       "887366           1800.0    NaN         NaN          NaN  \n",
       "887367          30300.0    NaN         NaN          NaN  \n",
       "887368          20700.0    NaN         NaN          NaN  \n",
       "887369          30100.0    NaN         NaN          NaN  \n",
       "887370          14500.0    NaN         NaN          NaN  \n",
       "887371          16800.0    NaN         NaN          NaN  \n",
       "887372          30300.0    NaN         NaN          NaN  \n",
       "887373          28100.0    NaN         NaN          NaN  \n",
       "887374          17100.0    NaN         NaN          NaN  \n",
       "887375          10200.0    NaN         NaN          NaN  \n",
       "887376          18000.0    NaN         NaN          NaN  \n",
       "887377          27000.0    NaN         NaN          NaN  \n",
       "887378          41700.0    NaN         NaN          NaN  \n",
       "\n",
       "[887379 rows x 74 columns]>"
      ]
     },
     "execution_count": 4,
     "metadata": {},
     "output_type": "execute_result"
    }
   ],
   "source": [
    "df.info()\n",
    "df.describe"
   ]
  },
  {
   "cell_type": "code",
   "execution_count": 6,
   "metadata": {
    "collapsed": false
   },
   "outputs": [
    {
     "data": {
      "text/plain": [
       "500.0         11\n",
       "550.0          1\n",
       "600.0          6\n",
       "700.0          3\n",
       "725.0          1\n",
       "750.0          1\n",
       "800.0          3\n",
       "850.0          1\n",
       "900.0          4\n",
       "925.0          1\n",
       "950.0          1\n",
       "1000.0      2591\n",
       "1025.0         9\n",
       "1050.0        22\n",
       "1075.0        11\n",
       "1100.0        74\n",
       "1125.0        21\n",
       "1150.0        20\n",
       "1175.0        13\n",
       "1200.0      1302\n",
       "1225.0         7\n",
       "1250.0        41\n",
       "1275.0        31\n",
       "1300.0       117\n",
       "1325.0        38\n",
       "1350.0        28\n",
       "1375.0        19\n",
       "1400.0       477\n",
       "1425.0        11\n",
       "1450.0       159\n",
       "           ...  \n",
       "34275.0        5\n",
       "34300.0       26\n",
       "34325.0        5\n",
       "34350.0       44\n",
       "34375.0        8\n",
       "34400.0       14\n",
       "34425.0       13\n",
       "34450.0       10\n",
       "34475.0      205\n",
       "34500.0      111\n",
       "34525.0        2\n",
       "34550.0       66\n",
       "34575.0       10\n",
       "34600.0        5\n",
       "34625.0       43\n",
       "34650.0       12\n",
       "34675.0        9\n",
       "34700.0        9\n",
       "34725.0       11\n",
       "34750.0       54\n",
       "34775.0        7\n",
       "34800.0       75\n",
       "34825.0        9\n",
       "34850.0       11\n",
       "34875.0       66\n",
       "34900.0       14\n",
       "34925.0        9\n",
       "34950.0       18\n",
       "34975.0       31\n",
       "35000.0    36230\n",
       "Name: funded_amnt, dtype: int64"
      ]
     },
     "execution_count": 6,
     "metadata": {},
     "output_type": "execute_result"
    }
   ],
   "source": [
    "df['funded_amnt'].value_counts().sort_index()"
   ]
  },
  {
   "cell_type": "code",
   "execution_count": 7,
   "metadata": {
    "collapsed": false
   },
   "outputs": [
    {
     "data": {
      "text/plain": [
       "10000.0    61744\n",
       "12000.0    50090\n",
       "15000.0    47094\n",
       "20000.0    46744\n",
       "35000.0    36230\n",
       "8000.0     27857\n",
       "5000.0     27153\n",
       "6000.0     26193\n",
       "25000.0    23848\n",
       "16000.0    23621\n",
       "24000.0    22233\n",
       "18000.0    22060\n",
       "30000.0    17540\n",
       "28000.0    14887\n",
       "7000.0     14125\n",
       "14000.0    13330\n",
       "21000.0    12038\n",
       "9000.0     11133\n",
       "4000.0     10524\n",
       "3000.0      9705\n",
       "13000.0     7589\n",
       "11000.0     7407\n",
       "9600.0      6891\n",
       "7200.0      6439\n",
       "17000.0     5898\n",
       "14400.0     5817\n",
       "22000.0     5362\n",
       "7500.0      5360\n",
       "2000.0      5090\n",
       "4800.0      4342\n",
       "           ...  \n",
       "32700.0        7\n",
       "33400.0        7\n",
       "32275.0        7\n",
       "31125.0        6\n",
       "31875.0        6\n",
       "29075.0        6\n",
       "33625.0        6\n",
       "34150.0        6\n",
       "600.0          6\n",
       "33125.0        5\n",
       "34275.0        5\n",
       "34600.0        5\n",
       "33775.0        5\n",
       "34325.0        5\n",
       "30050.0        5\n",
       "900.0          4\n",
       "34175.0        4\n",
       "32825.0        4\n",
       "32925.0        4\n",
       "800.0          3\n",
       "32050.0        3\n",
       "700.0          3\n",
       "32575.0        3\n",
       "34525.0        2\n",
       "850.0          1\n",
       "950.0          1\n",
       "925.0          1\n",
       "750.0          1\n",
       "725.0          1\n",
       "550.0          1\n",
       "Name: funded_amnt, dtype: int64"
      ]
     },
     "execution_count": 7,
     "metadata": {},
     "output_type": "execute_result"
    }
   ],
   "source": [
    "df['funded_amnt'].value_counts(sort=True)"
   ]
  },
  {
   "cell_type": "code",
   "execution_count": 10,
   "metadata": {
    "collapsed": false
   },
   "outputs": [
    {
     "data": {
      "text/plain": [
       "<matplotlib.axes._subplots.AxesSubplot at 0x7f253dde8358>"
      ]
     },
     "execution_count": 10,
     "metadata": {},
     "output_type": "execute_result"
    },
    {
     "data": {
      "image/png": "[encoded data removed]",
      "text/plain": [
       "<matplotlib.figure.Figure at 0x7f2533a3bcf8>"
      ]
     },
     "metadata": {},
     "output_type": "display_data"
    }
   ],
   "source": [
    "sns.distplot(df['funded_amnt'])"
   ]
  },
  {
   "cell_type": "code",
   "execution_count": 11,
   "metadata": {
    "collapsed": false
   },
   "outputs": [
    {
     "data": {
      "text/plain": [
       "<matplotlib.axes._subplots.AxesSubplot at 0x7f253dcc7e10>"
      ]
     },
     "execution_count": 11,
     "metadata": {},
     "output_type": "execute_result"
    },
    {
     "data": {
      "image/png": "[encoded data removed]",
      "text/plain": [
       "<matplotlib.figure.Figure at 0x7f253dc50240>"
      ]
     },
     "metadata": {},
     "output_type": "display_data"
    }
   ],
   "source": [
    "df['funded_amnt'].hist(bins=10)"
   ]
  },
  {
   "cell_type": "code",
   "execution_count": 12,
   "metadata": {
    "collapsed": false
   },
   "outputs": [
    {
     "data": {
      "text/plain": [
       "<matplotlib.axes._subplots.AxesSubplot at 0x7f253dbc0048>"
      ]
     },
     "execution_count": 12,
     "metadata": {},
     "output_type": "execute_result"
    },
    {
     "data": {
      "image/png": "[encoded data removed]",
      "text/plain": [
       "<matplotlib.figure.Figure at 0x7f253db748d0>"
      ]
     },
     "metadata": {},
     "output_type": "display_data"
    }
   ],
   "source": [
    "df['loan_amnt'].hist(bins=10)"
   ]
  },
  {
   "cell_type": "code",
   "execution_count": 13,
   "metadata": {
    "collapsed": false
   },
   "outputs": [
    {
     "data": {
      "text/plain": [
       "<matplotlib.axes._subplots.AxesSubplot at 0x7f253da5af60>"
      ]
     },
     "execution_count": 13,
     "metadata": {},
     "output_type": "execute_result"
    },
    {
     "data": {
      "image/png": "[encoded data removed]",
      "text/plain": [
       "<matplotlib.figure.Figure at 0x7f253dadff60>"
      ]
     },
     "metadata": {},
     "output_type": "display_data"
    }
   ],
   "source": [
    "df['int_rate'].hist(bins=50)"
   ]
  },
  {
   "cell_type": "code",
   "execution_count": 15,
   "metadata": {
    "collapsed": false
   },
   "outputs": [
    {
     "data": {
      "text/plain": [
       "<matplotlib.axes._subplots.AxesSubplot at 0x7f253d954240>"
      ]
     },
     "execution_count": 15,
     "metadata": {},
     "output_type": "execute_result"
    },
    {
     "data": {
      "image/png": "[encoded data removed]",
      "text/plain": [
       "<matplotlib.figure.Figure at 0x7f253d9d8b38>"
      ]
     },
     "metadata": {},
     "output_type": "display_data"
    }
   ],
   "source": [
    "df.boxplot(column='int_rate')"
   ]
  },
  {
   "cell_type": "code",
   "execution_count": 16,
   "metadata": {
    "collapsed": false
   },
   "outputs": [
    {
     "data": {
      "text/plain": [
       "<matplotlib.axes._subplots.AxesSubplot at 0x7f253d7da940>"
      ]
     },
     "execution_count": 16,
     "metadata": {},
     "output_type": "execute_result"
    },
    {
     "data": {
      "image/png": "[encoded data removed]",
      "text/plain": [
       "<matplotlib.figure.Figure at 0x7f253d7d4630>"
      ]
     },
     "metadata": {},
     "output_type": "display_data"
    }
   ],
   "source": [
    "df.boxplot(column='int_rate', by='term')"
   ]
  },
  {
   "cell_type": "code",
   "execution_count": 17,
   "metadata": {
    "collapsed": false
   },
   "outputs": [
    {
     "data": {
      "text/plain": [
       "<matplotlib.axes._subplots.AxesSubplot at 0x7f253d77fc50>"
      ]
     },
     "execution_count": 17,
     "metadata": {},
     "output_type": "execute_result"
    },
    {
     "data": {
      "image/png": "[encoded data removed]",
      "text/plain": [
       "<matplotlib.figure.Figure at 0x7f253d705e80>"
      ]
     },
     "metadata": {},
     "output_type": "display_data"
    }
   ],
   "source": [
    "df.boxplot(column='int_rate', by='home_ownership')"
   ]
  },
  {
   "cell_type": "code",
   "execution_count": 18,
   "metadata": {
    "collapsed": false
   },
   "outputs": [
    {
     "data": {
      "text/plain": [
       "<matplotlib.axes._subplots.AxesSubplot at 0x7f253d5a8e80>"
      ]
     },
     "execution_count": 18,
     "metadata": {},
     "output_type": "execute_result"
    },
    {
     "data": {
      "image/png": "[encoded data removed]",
      "text/plain": [
       "<matplotlib.figure.Figure at 0x7f253d5c50b8>"
      ]
     },
     "metadata": {},
     "output_type": "display_data"
    }
   ],
   "source": [
    "df.boxplot(column='loan_amnt')"
   ]
  }
 ],
 "metadata": {
  "kernelspec": {
   "display_name": "Python 3",
   "language": "python",
   "name": "python3"
  },
  "language_info": {
   "codemirror_mode": {
    "name": "ipython",
    "version": 3
   },
   "file_extension": ".py",
   "mimetype": "text/x-python",
   "name": "python",
   "nbconvert_exporter": "python",
   "pygments_lexer": "ipython3",
   "version": "3.6.0"
  }
 },
 "nbformat": 4,
 "nbformat_minor": 2
}
